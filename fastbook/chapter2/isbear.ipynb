{
 "cells": [
  {
   "cell_type": "code",
   "execution_count": 4,
   "metadata": {},
   "outputs": [
    {
     "name": "stdout",
     "output_type": "stream",
     "text": [
      "debug path g:\\Git\\upgrade\\fastbook\\chapter2\\export.pkl\n"
     ]
    },
    {
     "ename": "TypeError",
     "evalue": "unsupported operand type(s) for /: 'str' and 'str'",
     "output_type": "error",
     "traceback": [
      "\u001b[1;31m---------------------------------------------------------------------------\u001b[0m",
      "\u001b[1;31mTypeError\u001b[0m                                 Traceback (most recent call last)",
      "Cell \u001b[1;32mIn[4], line 10\u001b[0m\n\u001b[0;32m      7\u001b[0m \u001b[39mprint\u001b[39m(\u001b[39m'\u001b[39m\u001b[39mdebug path\u001b[39m\u001b[39m'\u001b[39m, path)\n\u001b[0;32m      9\u001b[0m \u001b[39m# Load model for inference\u001b[39;00m\n\u001b[1;32m---> 10\u001b[0m learn_inf \u001b[39m=\u001b[39m load_learner(path\u001b[39m/\u001b[39;49m\u001b[39m'\u001b[39;49m\u001b[39mexport.pkl\u001b[39;49m\u001b[39m'\u001b[39;49m)\n\u001b[0;32m     12\u001b[0m \u001b[39m# Show dataloaders vocab:\u001b[39;00m\n\u001b[0;32m     13\u001b[0m learn_inf\u001b[39m.\u001b[39mdls\u001b[39m.\u001b[39mvocab\n",
      "\u001b[1;31mTypeError\u001b[0m: unsupported operand type(s) for /: 'str' and 'str'"
     ]
    }
   ],
   "source": [
    "import os\n",
    "from  fastai.vision.all import *\n",
    "\n",
    "basedir = os.getcwd()\n",
    "filename = \"export.pkl\"\n",
    "path = os.path.join(basedir, filename)\n",
    "print('debug path', path)\n",
    "\n",
    "# Load model for inference\n",
    "learn_inf = load_learner(path)\n",
    "\n",
    "# Show dataloaders vocab:\n",
    "learn_inf.dls.vocab"
   ]
  }
 ],
 "metadata": {
  "kernelspec": {
   "display_name": "Python 3 (ipykernel)",
   "language": "python",
   "name": "python3"
  },
  "language_info": {
   "codemirror_mode": {
    "name": "ipython",
    "version": 3
   },
   "file_extension": ".py",
   "mimetype": "text/x-python",
   "name": "python",
   "nbconvert_exporter": "python",
   "pygments_lexer": "ipython3",
   "version": "3.10.6"
  }
 },
 "nbformat": 4,
 "nbformat_minor": 4
}
