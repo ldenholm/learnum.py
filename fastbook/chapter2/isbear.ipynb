{
 "cells": [
  {
   "cell_type": "code",
   "execution_count": 5,
   "metadata": {},
   "outputs": [
    {
     "name": "stdout",
     "output_type": "stream",
     "text": [
      "debug path g:\\Git\\upgrade\\fastbook\\chapter2\\export.pkl\n"
     ]
    },
    {
     "data": {
      "text/plain": [
       "['black', 'grizzly', 'teddy']"
      ]
     },
     "execution_count": 5,
     "metadata": {},
     "output_type": "execute_result"
    }
   ],
   "source": [
    "import os\n",
    "from  fastai.vision.all import *\n",
    "from fastai.vision.widgets import *\n",
    "\n",
    "basedir = os.getcwd()\n",
    "filename = \"export.pkl\"\n",
    "path = os.path.join(basedir, filename)\n",
    "print('debug path', path)\n",
    "\n",
    "# Load model for inference\n",
    "learn_inf = load_learner(path)\n",
    "\n",
    "# Show dataloaders vocab:\n",
    "learn_inf.dls.vocab\n",
    "\n",
    "btn_upload = widgets.FileUpload()\n",
    "btn_upload\n",
    "\n",
    "# For the book, we can't actually click an upload button, so we fake it\n",
    "btn_upload = SimpleNamespace(data = ['images/grizzly.jpg'])"
   ]
  }
 ],
 "metadata": {
  "kernelspec": {
   "display_name": "Python 3 (ipykernel)",
   "language": "python",
   "name": "python3"
  },
  "language_info": {
   "codemirror_mode": {
    "name": "ipython",
    "version": 3
   },
   "file_extension": ".py",
   "mimetype": "text/x-python",
   "name": "python",
   "nbconvert_exporter": "python",
   "pygments_lexer": "ipython3",
   "version": "3.10.6"
  }
 },
 "nbformat": 4,
 "nbformat_minor": 4
}
