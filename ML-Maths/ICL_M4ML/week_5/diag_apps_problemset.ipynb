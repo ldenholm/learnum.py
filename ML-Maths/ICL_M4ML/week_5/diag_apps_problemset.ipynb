{
 "cells": [
  {
   "cell_type": "markdown",
   "metadata": {},
   "source": [
    "# Diagonalization and Applications Problem Set\n",
    "## Problem 1\n",
    "![title](images/q1.png)"
   ]
  },
  {
   "cell_type": "code",
   "execution_count": 8,
   "metadata": {},
   "outputs": [
    {
     "name": "stdout",
     "output_type": "stream",
     "text": [
      "[5 5]\n",
      "[4 8]\n",
      "Problem 1 diagonal matrix D: \n",
      " [[5 0]\n",
      " [0 4]]\n"
     ]
    }
   ],
   "source": [
    "import numpy as np\n",
    "from numpy import linalg as la\n",
    "\n",
    "T_1 = np.array([[6, 2], [-1, 3]])\n",
    "C_1 = np.array([[1, 1], [1, 2]])\n",
    "\n",
    "# Solve for eigenvalues by applying T to each C_i col of C\n",
    "print(C_1[:, 0]@T_1)\n",
    "eig_1 = 5\n",
    "print(C_1[:, 1]@T_1)\n",
    "eig_2 = 4\n",
    "# Note that c@T in numpy is equiavlent to Tc irl.\n",
    "\n",
    "# For learning sake let's use the linalg eigen solver function provided in numpy\n",
    "# to do this in the next question.\n",
    "D_1 = np.array([[5, 0], [0, 4]])\n",
    "print('Problem 1 diagonal matrix D: \\n', D_1)"
   ]
  },
  {
   "cell_type": "markdown",
   "metadata": {},
   "source": [
    "## Problem 2\n",
    "\n",
    "![title](images/q2.png)"
   ]
  },
  {
   "cell_type": "code",
   "execution_count": 10,
   "metadata": {},
   "outputs": [
    {
     "name": "stdout",
     "output_type": "stream",
     "text": [
      "[-1.  2.]\n",
      "[[-1.  0.]\n",
      " [ 0.  2.]]\n"
     ]
    }
   ],
   "source": [
    "T_2 = np.array([[2, 0], [7, -1]])\n",
    "print(la.eigvals(T_2))\n",
    "# lets see if we can construct a diagonal matrix of eigenvalues directly:\n",
    "D_2 = np.diag(la.eigvals(T_2))\n",
    "print(D_2)\n",
    "\n",
    "# Yay there we have it, a manually and partially complete eigendecomposition.\n",
    "\n"
   ]
  },
  {
   "cell_type": "markdown",
   "metadata": {},
   "source": [
    "## Problem 3\n",
    "\n",
    "![title](images/q3.png)"
   ]
  },
  {
   "cell_type": "code",
   "execution_count": 13,
   "metadata": {},
   "outputs": [
    {
     "name": "stdout",
     "output_type": "stream",
     "text": [
      "[ 1. -1.] \n",
      " [[ 1.         -0.70710678]\n",
      " [ 0.          0.70710678]]\n",
      "Problem 3 ans: \n",
      " [[ 1.  0.]\n",
      " [ 0. -1.]]\n"
     ]
    }
   ],
   "source": [
    "T_3 = np.array([[1, 2], [0, -1]])\n",
    "\n",
    "# Continuing our exploration of numpy's utility functions, let's now\n",
    "# sequentially step through building an eigendecomposition of the map T_3:\n",
    "\n",
    "eigvals_3, eigvectors_3 = la.eig(T_3)\n",
    "print(eigvals_3, '\\n', eigvectors_3)\n",
    "\n",
    "# Now build the diagonal matrix of T_3's eigenvalues\n",
    "D_3 = np.diag(eigvals_3)\n",
    "print(\"Problem 3 ans: \\n\", D_3)"
   ]
  },
  {
   "cell_type": "markdown",
   "metadata": {},
   "source": [
    "## Problem 4\n",
    "\n",
    "![title](images/q4.png)"
   ]
  },
  {
   "cell_type": "code",
   "execution_count": 14,
   "metadata": {},
   "outputs": [
    {
     "name": "stdout",
     "output_type": "stream",
     "text": [
      "Problem 4 ans: \n",
      " [[1. 0.]\n",
      " [0. 1.]]\n"
     ]
    }
   ],
   "source": [
    "# Now we wish to solve for T_4 given D_4, C_4 and inv(C_4):\n",
    "C_4 = np.array([[1, 0], [-2, 1]])\n",
    "C_4_inv = la.inv(C_4)\n",
    "# To avoid typing error i'm just going to set a = 1\n",
    "a = 1\n",
    "D_4 = np.array([[a, 0], [0, a]])\n",
    "# Note T = C^-1DC, so in numpy we likely reverse the multiplication order.\n",
    "T_4 = C_4@D_4@C_4_inv\n",
    "print('Problem 4 ans: \\n', T_4)"
   ]
  },
  {
   "cell_type": "markdown",
   "metadata": {},
   "source": [
    "## Problem 5\n",
    "\n",
    "![title](images/q5.png)"
   ]
  },
  {
   "cell_type": "code",
   "execution_count": 16,
   "metadata": {},
   "outputs": [
    {
     "name": "stdout",
     "output_type": "stream",
     "text": [
      "[[1. 1.]\n",
      " [1. 2.]]\n",
      "Problem 5 ans: \n",
      " [[186. 122.]\n",
      " [-61.   3.]]\n"
     ]
    }
   ],
   "source": [
    "# To confirm something let me test the left most matrix on the \n",
    "# right side of the equals sign is in fact the inverse of the rightmost\n",
    "# matrix on the ride sight of the equals sign.\n",
    "\n",
    "C_5 = np.array([[2, -1], [-1, 1]])\n",
    "print(la.inv(C_5))\n",
    "\n",
    "# Okay cool. Now let's just compute T^3.\n",
    "# The whole point of this question is to demonstrate you can simply\n",
    "# take the D^3 which is multiplying 5^3 and 4^3,\n",
    "# then take the D' = D^3 and execute the matrix multiplication to efficiently\n",
    "# arrive at T^3\n",
    "\n",
    "# We will use la library to arrive at the some answer in an elegant way:\n",
    "T_5 = np.array([[6, 2], [-1, 3]])\n",
    "eigvals_5, right_eigvectors_5 = la.eig(T_5)\n",
    "T_5_cubed = right_eigvectors_5 @ la.matrix_power(np.diag(eigvals_5), 3) @ la.inv(right_eigvectors_5)\n",
    "print('Problem 5 ans: \\n', T_5_cubed)\n",
    "\n",
    "# Note matrix power just takes ndarray and raises it to nth power."
   ]
  },
  {
   "cell_type": "markdown",
   "metadata": {},
   "source": [
    "## Problem 6\n",
    "\n",
    "![title](images/q6.png)"
   ]
  },
  {
   "cell_type": "code",
   "execution_count": 17,
   "metadata": {},
   "outputs": [
    {
     "name": "stdout",
     "output_type": "stream",
     "text": [
      "Problem 6 ans: \n",
      " [[ 8.  0.]\n",
      " [21. -1.]]\n"
     ]
    }
   ],
   "source": [
    "# Again this problem has the same form as before, we don't need to be concerned about the tricky\n",
    "# fractions in the righmost matrix because ultimately we are just concerned with cubing the middle\n",
    "# diagonal matrix.\n",
    "\n",
    "T_6 = np.array([[2, 0], [7, -1]])\n",
    "eigvalues_6, right_eigvectors_6 = la.eig(T_6)\n",
    "T_6_cubed = right_eigvectors_6 @ la.matrix_power(np.diag(eigvalues_6), 3) @ la.inv(right_eigvectors_6)\n",
    "print('Problem 6 ans: \\n', T_6_cubed)"
   ]
  },
  {
   "cell_type": "markdown",
   "metadata": {},
   "source": [
    "## Problem 7\n",
    "\n",
    "![title](images/q7.png)"
   ]
  },
  {
   "cell_type": "code",
   "execution_count": 20,
   "metadata": {},
   "outputs": [
    {
     "name": "stdout",
     "output_type": "stream",
     "text": [
      "Problem 7 ans: \n",
      " [[ 1.  2.]\n",
      " [ 0. -1.]]\n"
     ]
    }
   ],
   "source": [
    "T_7 = np.array([[1, 2], [0, -1]])\n",
    "eigvals_7, right_eigvectors_7 = la.eig(T_7)\n",
    "T_7_cubed = right_eigvectors_7 @ la.matrix_power(np.diag(eigvals_7), 5) @ la.inv(right_eigvectors_7)\n",
    "print('Problem 7 ans: \\n', T_7_cubed)"
   ]
  },
  {
   "cell_type": "code",
   "execution_count": null,
   "metadata": {},
   "outputs": [],
   "source": []
  }
 ],
 "metadata": {
  "kernelspec": {
   "display_name": "Python 3",
   "language": "python",
   "name": "python3"
  },
  "language_info": {
   "codemirror_mode": {
    "name": "ipython",
    "version": 3
   },
   "file_extension": ".py",
   "mimetype": "text/x-python",
   "name": "python",
   "nbconvert_exporter": "python",
   "pygments_lexer": "ipython3",
   "version": "3.11.5"
  }
 },
 "nbformat": 4,
 "nbformat_minor": 2
}
