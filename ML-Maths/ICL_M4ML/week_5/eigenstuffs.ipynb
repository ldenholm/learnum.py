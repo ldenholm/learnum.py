{
 "cells": [
  {
   "cell_type": "code",
   "execution_count": 2,
   "metadata": {},
   "outputs": [],
   "source": [
    "import numpy as np"
   ]
  },
  {
   "cell_type": "markdown",
   "metadata": {},
   "source": [
    "# Recap\n",
    "To recap what we learned so far:\n",
    "\n",
    "When we wish to find the eigenvectors for some matrix A, we construct the following equation: Ax = λx.\n",
    "Then rearrange: \n",
    "\n",
    "Ax - λx = 0\n",
    "(A - λI)x = 0     (0 here is the zero vector)\n",
    "\n",
    "Since x = 0 is a trivial solution we want to find the right value for (A - λI) that\n",
    "yields a solution in the nullspace. To do this we construct the characteristic polynomial\n",
    "by taking the determinant of (A - λI):\n",
    "\n",
    "det(A - λI) = ad-bc = \n",
    "(a-λ)(d-λ)-bc = 0\n",
    "λ^2 -(a+b)λ + ad = 0\n",
    "\n",
    "If this can be factored in such a way that we get something of the form:\n",
    "(x-λ)(y-λ) = 0, we have two or more solutions for λ.\n",
    "\n",
    "With these solutions λ_1 & λ_2, we can plug them into A' = (A - λI)\n",
    "and substitute A' into the matrix equation A'x = 0.\n",
    "Upon substituting A' back into this matrix equation we have a system\n",
    "of linear equations for x_1 and x_2, one of which will be an eigenvalue\n",
    "for the linear transformation A."
   ]
  },
  {
   "cell_type": "markdown",
   "metadata": {},
   "source": [
    "# Changing to the eigenbasis\n",
    "\n",
    "We will be exploring a powerful tool for optimizing matrix operations - Diagonalization.\n",
    "\n",
    "Suppose we have a linear map T. T represents the change in position of a particle after a single time step in 2 dimensional euclidean space.\n",
    "Suppose v_0 is our initial position with a value of v_0 = (0.5, 1)."
   ]
  },
  {
   "cell_type": "code",
   "execution_count": 4,
   "metadata": {},
   "outputs": [
    {
     "name": "stdout",
     "output_type": "stream",
     "text": [
      "(2, 2)\n"
     ]
    },
    {
     "data": {
      "text/plain": [
       "(2,)"
      ]
     },
     "execution_count": 4,
     "metadata": {},
     "output_type": "execute_result"
    }
   ],
   "source": [
    "T = np.array([[0.9, -1], [0.8, 0.35]])\n",
    "print(T.shape)\n",
    "v_0 = np.array([0.5, -1])\n",
    "v_0.shape"
   ]
  },
  {
   "cell_type": "markdown",
   "metadata": {},
   "source": [
    "Next we will take Tv_0 = v_1"
   ]
  },
  {
   "cell_type": "code",
   "execution_count": 14,
   "metadata": {},
   "outputs": [
    {
     "name": "stdout",
     "output_type": "stream",
     "text": [
      "[1.45 0.05]\n",
      "[1.255  1.1775]\n",
      "[1.255  1.1775]\n"
     ]
    }
   ],
   "source": [
    "v_1 = T@v_0\n",
    "print(v_1)\n",
    "v_2 = T@v_1\n",
    "print(v_2)\n",
    "\n",
    "# We can also get v_2 by multiplying TTv_0\n",
    "v_2_alternate = T@T@v_0\n",
    "print(v_2_alternate)"
   ]
  },
  {
   "cell_type": "markdown",
   "metadata": {},
   "source": [
    "# Big Idea\n",
    "\n",
    "What we notice is that for any time step n we wish to know the position of our particle, we can muliply by (T^n)v_0 to get the position vector.\n",
    "If we wanted to learn the particles position say 1 million seconds from now\n",
    "(roughly 11 days), multiplying T to the 1 millionth would take quite some time.\n",
    "\n",
    "To address this intractability problem we can diagonalize the matrix T by setting all entries to zero aside from the main leading diagonal. By diagonalizing the matrix we significantly reduce the time complexity of the matrix multiplication operation.\n",
    "\n",
    "When taking T^n for a diagonal matrix T. We simply take the diagonal entries to the nth power, see below."
   ]
  },
  {
   "cell_type": "code",
   "execution_count": 16,
   "metadata": {},
   "outputs": [],
   "source": [
    "# Create diagonal matrix D\n",
    "D = np.array([[2, 0, 0], [0, 2, 0], [0, 0, 2]])\n",
    "print(D.shape)\n",
    "\n",
    "# D is 3x3 with 2's along the leading diagonal.\n",
    "# We will quickly see that D^n is just each D_ii entry to the n.\n",
    "\n",
    "# D^3, we expect all diagonal entries to be 2^3 = 8\n",
    "print(D@D@D)"
   ]
  },
  {
   "cell_type": "markdown",
   "metadata": {},
   "source": [
    "# What if T is not a diagonal matrix?\n",
    "\n",
    "We use eigendecomposition to change to a basis in which our transformation T becomes a diagonal matrix.\n",
    "\n",
    "We change to a basis known as an eigenbasis.\n",
    "\n",
    "To build the eigenbasis conversion matrix we simply plugin each of our eigenvectors as columns.\n",
    "\n",
    "C = (eigenvec_1^T, eigenvec_1^T, eigenvec_1^T) Note: this is a 3d example.\n",
    "D = a diagonal matrix with the corresponding eigenvalues on the leading diagonal and zeros in all other entries.\n",
    "\n",
    "Now we can form an expression for the eigendecomposition of some linear map T:\n",
    "\n",
    "T = CDC^-1. And T^2 = CDC^-1CDC^-1 \n",
    "\n",
    "Notice C^-1C is I since a matrix multiplied by its inverse yields the identity matrix. So we get:\n",
    "\n",
    "T^2 = CDDC^-1 = CD^2C^-1\n",
    "\n",
    "We can generalize this to applying n transformations of T:\n",
    "\n",
    "T^n = CD^nC^-1\n",
    "\n",
    "So to summarize, we change basis of T into its eigenbasis by applying a matrix composed of T's eigenvectors. Once in the new basis the map becomes simply a scaling which can be represented by a diagnoal matrix. After applying the scaling we perform a change of basis again taking T from its eigenbasis back to its original basis.\n",
    "\n",
    "The final result is a decomposed form of some linear map T which allows us to compute n transformations without the significan computational cost of the original map."
   ]
  },
  {
   "cell_type": "markdown",
   "metadata": {},
   "source": [
    "# Eigenproblems"
   ]
  },
  {
   "cell_type": "code",
   "execution_count": 19,
   "metadata": {},
   "outputs": [
    {
     "name": "stdout",
     "output_type": "stream",
     "text": [
      "[[1 0]\n",
      " [1 2]]\n",
      "shape of x:  (2,)\n",
      "Transformation applied once:  [2 2]\n",
      "[[1 0]\n",
      " [1 1]]\n",
      "[[ 1.  0.]\n",
      " [-1.  1.]]\n",
      "[[1 0]\n",
      " [0 2]]\n",
      "[16 16]\n",
      "[16. 16.]\n"
     ]
    }
   ],
   "source": [
    "# Consider the following transformation T_1:\n",
    "someT = np.array([[1, 0], [1, 2]])\n",
    "print(someT)\n",
    "\n",
    "# For some vector x = (1, 1), what is T_1b?\n",
    "x_1 = np.array([1, 1])\n",
    "print('shape of x: ', x_1.shape)\n",
    "print('Transformation applied once: ', x_1@someT)\n",
    "\n",
    "# Consider someT, what are its eigenvalues and eigenvector?\n",
    "eigenv_1 = np.array([1, 0])\n",
    "λ_1 = 1\n",
    "eigenv_2 = np.array([1, 1])\n",
    "λ_2 = 2\n",
    "\n",
    "# Let's construct our eigenbasis map C and it's inverse:\n",
    "C = np.array([eigenv_1, eigenv_2])\n",
    "print(C)\n",
    "C_inv = np.linalg.inv(C)\n",
    "print(C_inv)\n",
    "\n",
    "# Construct diagonal matrix D from eigenvalues:\n",
    "D = np.array([[λ_1, 0], [0, λ_2]])\n",
    "print(D)\n",
    "\n",
    "# Now we can apply our transformation n times with no worries.\n",
    "# Let n = 4:\n",
    "print(x_1@someT@someT@someT@someT)\n",
    "# should be equal to \n",
    "print(x_1@C_inv@D@D@D@D@C)\n",
    "\n",
    "# As expected we see the eigendecomposition and the transformation \n",
    "# applied directly yield the same end result."
   ]
  }
 ],
 "metadata": {
  "kernelspec": {
   "display_name": "Python 3",
   "language": "python",
   "name": "python3"
  },
  "language_info": {
   "codemirror_mode": {
    "name": "ipython",
    "version": 3
   },
   "file_extension": ".py",
   "mimetype": "text/x-python",
   "name": "python",
   "nbconvert_exporter": "python",
   "pygments_lexer": "ipython3",
   "version": "3.11.5"
  }
 },
 "nbformat": 4,
 "nbformat_minor": 2
}
