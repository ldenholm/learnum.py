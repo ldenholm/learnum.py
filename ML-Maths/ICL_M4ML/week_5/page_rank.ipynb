{
 "cells": [
  {
   "cell_type": "markdown",
   "metadata": {},
   "source": [
    "# In this exercise we will be exploring Pageank algorithm\n",
    "\n",
    "The central idea in PageRank is attributing a weight to each page valued by the number of links point to or from that page. Interestingly eigen-theory appears.\n",
    "\n",
    "Suppose we have a network of the following form:\n",
    "\n",
    "A <-> B   (note A links to B, C, and D\n",
    "|     |   B links to A & D, C links to D\n",
    "C <-> D   and D links to C and B)\n",
    "\n",
    "We store each a map of links inside a vector for each page. Page A for example may have a vector of (0, 1, 1, 1) -> representing its links to pages B, C, and D. The sample space\n",
    "for page A looks like (0, 1/3, 1/3, 1/3), each page B, C, and D has 1/3 probability of being visited. Note we normalize the entries in the vector by the absolute length of 1 entries so that the probabilities sum to 1 (first axiom of probability).\n",
    "\n",
    "L_b for example looks like: (1/2, 0, 0, 1/2) since it links to A and D but NOT C or itself.\n",
    "L_c looks like: (0, 0, 0, 1) since it only links to D.\n",
    "\n",
    "We will constuct a link matrix L comprised of the probability vectors for each link as the columns, and the rows represent inward links normalized with respect to their page of origin."
   ]
  },
  {
   "cell_type": "code",
   "execution_count": 2,
   "metadata": {},
   "outputs": [
    {
     "name": "stdout",
     "output_type": "stream",
     "text": [
      "[0.25 0.25 0.25 0.25] (4,)\n"
     ]
    }
   ],
   "source": [
    "import numpy as np\n",
    "\n",
    "# Link matrix\n",
    "L = np.array([[0, 1/3, 1/3, 1/3], [1/2, 0, 0, 1/2], [0, 0, 0, 1], [0, 1/2, 1/2, 0]])\n",
    "\n",
    "# We will use the vector r to store the rank of all webpages. To compute the rank of page A\n",
    "# we require the following for all other pages p on the internet:\n",
    "# What is your rank? Do you link to page A? How many outgoing links do you have in total?\n",
    "\n",
    "# rank(A) = nSum_j=1(L_a,j)*r_j\n",
    "\n",
    "# To define this for all webpages we form the following matrix equation:\n",
    "# Lr = r\n",
    "\n",
    "# We initialize r to be normalized by the number of pages we have, in our case 4:\n",
    "r = np.array([1/4, 1/4, 1/4, 1/4])\n",
    "print(r, r.shape)\n",
    "\n",
    "# Each time we apply our transform L to r we get an updated value for r:\n",
    "# Lr^i = r^i+1\n",
    "\n",
    "# r appears to be an eigenvector of L with eigenvalue 1. Ideally we want to use eigendecomp\n",
    "# to multiply r by L n times however we do not know all of the eigenvalues of L. Instead we\n",
    "# can compute this linear equation many times until we converge to the real rank vector r.\n",
    "\n",
    "# Repeatedly multiplying a randomly selected initial guess vector by your matrix, named \n",
    "# the Power Method is very effective for this PageRank problem."
   ]
  },
  {
   "cell_type": "code",
   "execution_count": null,
   "metadata": {},
   "outputs": [],
   "source": []
  }
 ],
 "metadata": {
  "kernelspec": {
   "display_name": "Python 3",
   "language": "python",
   "name": "python3"
  },
  "language_info": {
   "codemirror_mode": {
    "name": "ipython",
    "version": 3
   },
   "file_extension": ".py",
   "mimetype": "text/x-python",
   "name": "python",
   "nbconvert_exporter": "python",
   "pygments_lexer": "ipython3",
   "version": "3.10.6"
  }
 },
 "nbformat": 4,
 "nbformat_minor": 2
}
