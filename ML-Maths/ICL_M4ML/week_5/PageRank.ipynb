{
 "cells": [
  {
   "cell_type": "markdown",
   "metadata": {
    "collapsed": true
   },
   "source": [
    "# PageRank\n",
    "In this notebook, you'll build on your knowledge of eigenvectors and eigenvalues by exploring the PageRank algorithm.\n",
    "The notebook is in two parts, the first is a worksheet to get you up to speed with how the algorithm works - here we will look at a micro-internet with fewer than 10 websites and see what it does and what can go wrong.\n",
    "The second is an assessment which will test your application of eigentheory to this problem by writing code and calculating the page rank of a large network representing a sub-section of the internet."
   ]
  },
  {
   "cell_type": "markdown",
   "metadata": {},
   "source": [
    "## Part 1 - Worksheet\n",
    "### Introduction\n",
    "\n",
    "PageRank (developed by Larry Page and Sergey Brin) revolutionized web search by generating a\n",
    "ranked list of web pages based on the underlying connectivity of the web. The PageRank algorithm is\n",
    "based on an ideal random web surfer who, when reaching a page, goes to the next page by clicking on a\n",
    "link. The surfer has equal probability of clicking any link on the page and, when reaching a page with no\n",
    "links, has equal probability of moving to any other page by typing in its URL. In addition, the surfer may\n",
    "occasionally choose to type in a random URL instead of following the links on a page. The PageRank is\n",
    "the ranked order of the pages from the most to the least probable page the surfer will be viewing.\n"
   ]
  },
  {
   "cell_type": "code",
   "execution_count": 2,
   "metadata": {},
   "outputs": [
    {
     "name": "stdout",
     "output_type": "stream",
     "text": [
      "Populating the interactive namespace from numpy and matplotlib\n"
     ]
    }
   ],
   "source": [
    "# Before we begin, let's load the libraries.\n",
    "%pylab notebook\n",
    "import numpy as np\n",
    "import numpy.linalg as la\n",
    "from readonly.PageRankFunctions import *\n",
    "np.set_printoptions(suppress=True)"
   ]
  },
  {
   "cell_type": "markdown",
   "metadata": {},
   "source": [
    "### PageRank as a linear algebra problem\n",
    "Let's imagine a micro-internet, with just 6 websites (**A**vocado, **B**ullseye, **C**atBabel, **D**romeda, **e**Tings, and **F**aceSpace).\n",
    "Each website links to some of the others, and this forms a network as shown,\n",
    "\n",
    "![A Micro-Internet](readonly/internet.png \"A Micro-Internet\")\n",
    "\n",
    "The design principle of PageRank is that important websites will be linked to by important websites.\n",
    "This somewhat recursive principle will form the basis of our thinking.\n",
    "\n",
    "Imagine we have 100 *Procrastinating Pat*s on our micro-internet, each viewing a single website at a time.\n",
    "Each minute the Pats follow a link on their website to another site on the micro-internet.\n",
    "After a while, the websites that are most linked to will have more Pats visiting them, and in the long run, each minute for every Pat that leaves a website, another will enter keeping the total numbers of Pats on each website constant.\n",
    "The PageRank is simply the ranking of websites by how many Pats they have on them at the end of this process.\n",
    "\n",
    "We represent the number of Pats on each website with the vector,\n",
    "$$\\mathbf{r} = \\begin{bmatrix} r_A \\\\ r_B \\\\ r_C \\\\ r_D \\\\ r_E \\\\ r_F \\end{bmatrix}$$\n",
    "And say that the number of Pats on each website in minute $i+1$ is related to those at minute $i$ by the matrix transformation\n",
    "\n",
    "$$ \\mathbf{r}^{(i+1)} = L \\,\\mathbf{r}^{(i)}$$\n",
    "with the matrix $L$ taking the form,\n",
    "$$ L = \\begin{bmatrix}\n",
    "L_{A→A} & L_{B→A} & L_{C→A} & L_{D→A} & L_{E→A} & L_{F→A} \\\\\n",
    "L_{A→B} & L_{B→B} & L_{C→B} & L_{D→B} & L_{E→B} & L_{F→B} \\\\\n",
    "L_{A→C} & L_{B→C} & L_{C→C} & L_{D→C} & L_{E→C} & L_{F→C} \\\\\n",
    "L_{A→D} & L_{B→D} & L_{C→D} & L_{D→D} & L_{E→D} & L_{F→D} \\\\\n",
    "L_{A→E} & L_{B→E} & L_{C→E} & L_{D→E} & L_{E→E} & L_{F→E} \\\\\n",
    "L_{A→F} & L_{B→F} & L_{C→F} & L_{D→F} & L_{E→F} & L_{F→F} \\\\\n",
    "\\end{bmatrix}\n",
    "$$\n",
    "where the columns represent the probability of leaving a website for any other website, and sum to one.\n",
    "The rows determine how likely you are to enter a website from any other, though these need not add to one.\n",
    "The long time behaviour of this system is when $ \\mathbf{r}^{(i+1)} = \\mathbf{r}^{(i)}$, so we'll drop the superscripts here, and that allows us to write,\n",
    "$$ L \\,\\mathbf{r} = \\mathbf{r}$$\n",
    "\n",
    "which is an eigenvalue equation for the matrix $L$, with eigenvalue 1 (this is guaranteed by the probabalistic structure of the matrix $L$).\n",
    "\n",
    "Complete the matrix $L$ below, we've left out the column for which websites the *FaceSpace* website (F) links to.\n",
    "Remember, this is the probability to click on another website from this one, so each column should add to one (by scaling by the number of links)."
   ]
  },
  {
   "cell_type": "code",
   "execution_count": 22,
   "metadata": {
    "collapsed": true
   },
   "outputs": [],
   "source": [
    "# Replace the ??? here with the probability of clicking a link to each website when leaving Website F (FaceSpace).\n",
    "L = np.array([[0,   1/2, 1/3, 0, 0,   0 ],\n",
    "              [1/3, 0,   0,   0, 1/2, 0],\n",
    "              [1/3, 1/2, 0,   1, 0,    1/2],\n",
    "              [1/3, 0,   1/3, 0, 1/2, 1/2 ],\n",
    "              [0,   0,   0,   0, 0,   0 ],\n",
    "              [0,   0,   1/3, 0, 0,   0 ]])"
   ]
  },
  {
   "cell_type": "markdown",
   "metadata": {},
   "source": [
    "In principle, we could use a linear algebra library, as below, to calculate the eigenvalues and vectors.\n",
    "And this would work for a small system. But this gets unmanagable for large systems.\n",
    "And since we only care about the principal eigenvector (the one with the largest eigenvalue, which will be 1 in this case), we can use the *power iteration method* which will scale better, and is faster for large systems.\n",
    "\n",
    "Use the code below to peek at the PageRank for this micro-internet."
   ]
  },
  {
   "cell_type": "code",
   "execution_count": 4,
   "metadata": {},
   "outputs": [
    {
     "data": {
      "text/plain": [
       "array([ 16.        ,   5.33333333,  40.        ,  25.33333333,\n",
       "         0.        ,  13.33333333])"
      ]
     },
     "execution_count": 4,
     "metadata": {},
     "output_type": "execute_result"
    }
   ],
   "source": [
    "eVals, eVecs = la.eig(L) # Gets the eigenvalues and vectors\n",
    "order = np.absolute(eVals).argsort()[::-1] # Orders them by their eigenvalues\n",
    "eVals = eVals[order]\n",
    "eVecs = eVecs[:,order]\n",
    "\n",
    "r = eVecs[:, 0] # Sets r to be the principal eigenvector\n",
    "100 * np.real(r / np.sum(r)) # Make this eigenvector sum to one, then multiply by 100 Procrastinating Pats"
   ]
  },
  {
   "cell_type": "markdown",
   "metadata": {},
   "source": [
    "We can see from this list, the number of Procrastinating Pats that we expect to find on each website after long times.\n",
    "Putting them in order of *popularity* (based on this metric), the PageRank of this micro-internet is:\n",
    "\n",
    "**C**atBabel, **D**romeda, **A**vocado, **F**aceSpace, **B**ullseye, **e**Tings\n",
    "\n",
    "Referring back to the micro-internet diagram, is this what you would have expected?\n",
    "Convince yourself that based on which pages seem important given which others link to them, that this is a sensible ranking.\n",
    "\n",
    "Let's now try to get the same result using the Power-Iteration method that was covered in the video.\n",
    "This method will be much better at dealing with large systems.\n",
    "\n",
    "First let's set up our initial vector, $\\mathbf{r}^{(0)}$, so that we have our 100 Procrastinating Pats equally distributed on each of our 6 websites."
   ]
  },
  {
   "cell_type": "code",
   "execution_count": null,
   "metadata": {
    "collapsed": true
   },
   "outputs": [],
   "source": [
    "r = 100 * np.ones(6) / 6 # Sets up this vector (6 entries of 1/6 × 100 each)\n",
    "r # Shows it's value"
   ]
  },
  {
   "cell_type": "markdown",
   "metadata": {},
   "source": [
    "Next, let's update the vector to the next minute, with the matrix $L$.\n",
    "Run the following cell multiple times, until the answer stabilises."
   ]
  },
  {
   "cell_type": "code",
   "execution_count": null,
   "metadata": {
    "collapsed": true
   },
   "outputs": [],
   "source": [
    "r = L @ r # Apply matrix L to r\n",
    "r # Show it's value\n",
    "# Re-run this cell multiple times to converge to the correct answer."
   ]
  },
  {
   "cell_type": "markdown",
   "metadata": {},
   "source": [
    "We can automate applying this matrix multiple times as follows,"
   ]
  },
  {
   "cell_type": "code",
   "execution_count": null,
   "metadata": {
    "collapsed": true
   },
   "outputs": [],
   "source": [
    "r = 100 * np.ones(6) / 6 # Sets up this vector (6 entries of 1/6 × 100 each)\n",
    "for i in np.arange(100) : # Repeat 100 times\n",
    "    r = L @ r\n",
    "r"
   ]
  },
  {
   "cell_type": "markdown",
   "metadata": {},
   "source": [
    "Or even better, we can keep running until we get to the required tolerance."
   ]
  },
  {
   "cell_type": "code",
   "execution_count": 23,
   "metadata": {},
   "outputs": [
    {
     "name": "stdout",
     "output_type": "stream",
     "text": [
      "18 iterations to convergence.\n"
     ]
    },
    {
     "data": {
      "text/plain": [
       "array([ 16.00149917,   5.33252025,  39.99916911,  25.3324738 ,\n",
       "         0.        ,  13.33433767])"
      ]
     },
     "execution_count": 23,
     "metadata": {},
     "output_type": "execute_result"
    }
   ],
   "source": [
    "r = 100 * np.ones(6) / 6 # Sets up this vector (6 entries of 1/6 × 100 each)\n",
    "lastR = r\n",
    "r = L @ r\n",
    "i = 0\n",
    "while la.norm(lastR - r) > 0.01 :\n",
    "    lastR = r\n",
    "    r = L @ r\n",
    "    i += 1\n",
    "print(str(i) + \" iterations to convergence.\")\n",
    "r"
   ]
  },
  {
   "cell_type": "markdown",
   "metadata": {},
   "source": [
    "See how the PageRank order is established fairly quickly, and the vector converges on the value we calculated earlier after a few tens of repeats.\n",
    "\n",
    "Congratulations! You've just calculated your first PageRank!"
   ]
  },
  {
   "cell_type": "markdown",
   "metadata": {},
   "source": [
    "### Damping Parameter\n",
    "The system we just studied converged fairly quickly to the correct answer.\n",
    "Let's consider an extension to our micro-internet where things start to go wrong.\n",
    "\n",
    "Say a new website is added to the micro-internet: *Geoff's* Website.\n",
    "This website is linked to by *FaceSpace* and only links to itself.\n",
    "![An Expanded Micro-Internet](readonly/internet2.png \"An Expanded Micro-Internet\")\n",
    "\n",
    "Intuitively, only *FaceSpace*, which is in the bottom half of the page rank, links to this website amongst the two others it links to,\n",
    "so we might expect *Geoff's* site to have a correspondingly low PageRank score.\n",
    "\n",
    "Build the new $L$ matrix for the expanded micro-internet, and use Power-Iteration on the Procrastinating Pat vector.\n",
    "See what happens…"
   ]
  },
  {
   "cell_type": "code",
   "execution_count": 3,
   "metadata": {
    "collapsed": true
   },
   "outputs": [],
   "source": [
    " # We'll call this one L2, to distinguish it from the previous L.\n",
    "L2 = np.array([[0,   1/2, 1/3, 0, 0,   0, 0 ],\n",
    "               [1/3, 0,   0,   0, 1/2, 0, 0 ],\n",
    "               [1/3, 1/2, 0,   1, 0,   1/3, 0 ],\n",
    "               [1/3, 0,   1/3, 0, 1/2, 1/3, 0 ],\n",
    "               [0,   0,   0,   0, 0,   0, 0 ],\n",
    "               [0,   0,   1/3, 0, 0,   0, 0 ],\n",
    "               [0,   0,   0,   0, 0,   1/3, 1 ]])"
   ]
  },
  {
   "cell_type": "code",
   "execution_count": 4,
   "metadata": {},
   "outputs": [
    {
     "name": "stdout",
     "output_type": "stream",
     "text": [
      "131 iterations to convergence.\n"
     ]
    },
    {
     "data": {
      "text/plain": [
       "array([  0.03046998,   0.01064323,   0.07126612,   0.04423198,\n",
       "         0.        ,   0.02489342,  99.81849527])"
      ]
     },
     "execution_count": 4,
     "metadata": {},
     "output_type": "execute_result"
    }
   ],
   "source": [
    "r = 100 * np.ones(7) / 7 # Sets up this vector (6 entries of 1/6 × 100 each)\n",
    "lastR = r\n",
    "r = L2 @ r\n",
    "i = 0\n",
    "while la.norm(lastR - r) > 0.01 :\n",
    "    lastR = r\n",
    "    r = L2 @ r\n",
    "    i += 1\n",
    "print(str(i) + \" iterations to convergence.\")\n",
    "r"
   ]
  },
  {
   "cell_type": "markdown",
   "metadata": {},
   "source": [
    "That's no good! *Geoff* seems to be taking all the traffic on the micro-internet, and somehow coming at the top of the PageRank.\n",
    "This behaviour can be understood, because once a Pat get's to *Geoff's* Website, they can't leave, as all links head back to Geoff.\n",
    "\n",
    "To combat this, we can add a small probability that the Procrastinating Pats don't follow any link on a webpage, but instead visit a website on the micro-internet at random.\n",
    "We'll say the probability of them following a link is $d$ and the probability of choosing a random website is therefore $1-d$.\n",
    "We can use a new matrix to work out where the Pat's visit each minute.\n",
    "$$ M = d \\, L + \\frac{1-d}{n} \\, J $$\n",
    "where $J$ is an $n\\times n$ matrix where every element is one.\n",
    "\n",
    "If $d$ is one, we have the case we had previously, whereas if $d$ is zero, we will always visit a random webpage and therefore all webpages will be equally likely and equally ranked.\n",
    "For this extension to work best, $1-d$ should be somewhat small - though we won't go into a discussion about exactly how small.\n",
    "\n",
    "Let's retry this PageRank with this extension."
   ]
  },
  {
   "cell_type": "code",
   "execution_count": 6,
   "metadata": {
    "collapsed": true
   },
   "outputs": [],
   "source": [
    "d = 0.5 # Feel free to play with this parameter after running the code once.\n",
    "M = d * L2 + (1-d)/7 * np.ones([7, 7]) # np.ones() is the J matrix, with ones for each entry."
   ]
  },
  {
   "cell_type": "code",
   "execution_count": 7,
   "metadata": {},
   "outputs": [
    {
     "name": "stdout",
     "output_type": "stream",
     "text": [
      "8 iterations to convergence.\n"
     ]
    },
    {
     "data": {
      "text/plain": [
       "array([ 13.68217054,  11.20902965,  22.41964343,  16.7593433 ,\n",
       "         7.14285714,  10.87976354,  17.90719239])"
      ]
     },
     "execution_count": 7,
     "metadata": {},
     "output_type": "execute_result"
    }
   ],
   "source": [
    "r = 100 * np.ones(7) / 7 # Sets up this vector (6 entries of 1/6 × 100 each)\n",
    "lastR = r\n",
    "r = M @ r\n",
    "i = 0\n",
    "while la.norm(lastR - r) > 0.01 :\n",
    "    lastR = r\n",
    "    r = M @ r\n",
    "    i += 1\n",
    "print(str(i) + \" iterations to convergence.\")\n",
    "r"
   ]
  },
  {
   "cell_type": "markdown",
   "metadata": {},
   "source": [
    "This is certainly better, the PageRank gives sensible numbers for the Procrastinating Pats that end up on each webpage.\n",
    "This method still predicts Geoff has a high ranking webpage however.\n",
    "This could be seen as a consequence of using a small network. We could also get around the problem by not counting self-links when producing the L matrix (an if a website has no outgoing links, make it link to all websites equally).\n",
    "We won't look further down this route, as this is in the realm of improvements to PageRank, rather than eigenproblems.\n",
    "\n",
    "You are now in a good position, having gained an understanding of PageRank, to produce your own code to calculate the PageRank of a website with thousands of entries.\n",
    "\n",
    "Good Luck!"
   ]
  },
  {
   "cell_type": "markdown",
   "metadata": {},
   "source": [
    "## Part 2 - Assessment\n",
    "In this assessment, you will be asked to produce a function that can calculate the PageRank for an arbitrarily large probability matrix.\n",
    "This, the final assignment of the course, will give less guidance than previous assessments.\n",
    "You will be expected to utilise code from earlier in the worksheet and re-purpose it to your needs.\n",
    "\n",
    "### How to submit\n",
    "Edit the code in the cell below to complete the assignment.\n",
    "Once you are finished and happy with it, press the *Submit Assignment* button at the top of this notebook.\n",
    "\n",
    "Please don't change any of the function names, as these will be checked by the grading script.\n",
    "\n",
    "If you have further questions about submissions or programming assignments, here is a [list](https://www.coursera.org/learn/linear-algebra-machine-learning/discussions/weeks/1/threads/jB4klkn5EeibtBIQyzFmQg) of Q&A. You can also raise an issue on the discussion forum. Good luck!"
   ]
  },
  {
   "cell_type": "code",
   "execution_count": 8,
   "metadata": {
    "collapsed": true
   },
   "outputs": [],
   "source": [
    "# PACKAGE\n",
    "# Here are the imports again, just in case you need them.\n",
    "# There is no need to edit or submit this cell.\n",
    "import numpy as np\n",
    "import numpy.linalg as la\n",
    "from readonly.PageRankFunctions import *\n",
    "np.set_printoptions(suppress=True)"
   ]
  },
  {
   "cell_type": "code",
   "execution_count": 11,
   "metadata": {
    "collapsed": true
   },
   "outputs": [],
   "source": [
    "# GRADED FUNCTION\n",
    "# Complete this function to provide the PageRank for an arbitrarily sized internet.\n",
    "# I.e. the principal eigenvector of the damped system, using the power iteration method.\n",
    "# (Normalisation doesn't matter here)\n",
    "# The functions inputs are the linkMatrix, and d the damping parameter - as defined in this worksheet.\n",
    "# (The damping parameter, d, will be set by the function - no need to set this yourself.)\n",
    "def pageRank(linkMatrix, d) :\n",
    "    n = linkMatrix.shape[0]\n",
    "    # We must construct our M damping matrix:\n",
    "    M = d * linkMatrix + (1-d)/n * np.ones([n, n]) # np.ones() is the J matrix, with ones for each entry.\n",
    "    #print(M, \" and M's shape: \\n\", M)\n",
    "    \n",
    "    # Initialize r rank vector.\n",
    "    r = 100 * np.ones(n) / n # Sets up this vector (n entries of 1/n × 100 each)\n",
    "    \n",
    "    # Now we use the power method to iteratively apply M to r until it converges to a limit point.\n",
    "    lastR = r\n",
    "    r = M @ r\n",
    "    i = 0\n",
    "    while la.norm(lastR - r) > 0.01 :\n",
    "        lastR = r\n",
    "        r = M @ r\n",
    "        i += 1\n",
    "    print(str(i) + \" iterations to convergence.\")\n",
    "    return r\n"
   ]
  },
  {
   "cell_type": "markdown",
   "metadata": {},
   "source": [
    "## Test your code before submission\n",
    "To test the code you've written above, run the cell (select the cell above, then press the play button [ ▶| ] or press shift-enter).\n",
    "You can then use the code below to test out your function.\n",
    "You don't need to submit this cell; you can edit and run it as much as you like."
   ]
  },
  {
   "cell_type": "code",
   "execution_count": 12,
   "metadata": {},
   "outputs": [
    {
     "data": {
      "text/plain": [
       "array([[ 0. ,  0.2,  0. ,  0. ,  0. ],\n",
       "       [ 1. ,  0.2,  0. ,  1. ,  0. ],\n",
       "       [ 0. ,  0.2,  1. ,  0. ,  0. ],\n",
       "       [ 0. ,  0.2,  0. ,  0. ,  1. ],\n",
       "       [ 0. ,  0.2,  0. ,  0. ,  0. ]])"
      ]
     },
     "execution_count": 12,
     "metadata": {},
     "output_type": "execute_result"
    }
   ],
   "source": [
    "# Use the following function to generate internets of different sizes.\n",
    "generate_internet(5)"
   ]
  },
  {
   "cell_type": "code",
   "execution_count": 13,
   "metadata": {
    "collapsed": true
   },
   "outputs": [],
   "source": [
    "# Test your PageRank method against the built in \"eig\" method.\n",
    "# You should see yours is a lot faster for large internets\n",
    "L = generate_internet(10)"
   ]
  },
  {
   "cell_type": "code",
   "execution_count": 14,
   "metadata": {},
   "outputs": [
    {
     "name": "stdout",
     "output_type": "stream",
     "text": [
      "18 iterations to convergence.\n"
     ]
    },
    {
     "data": {
      "text/plain": [
       "array([  0.00131975,  42.84643649,   0.00200881,   0.00131975,\n",
       "         0.00200881,   0.00131975,  57.13375465,   0.00604599,\n",
       "         0.00131975,   0.00446626])"
      ]
     },
     "execution_count": 14,
     "metadata": {},
     "output_type": "execute_result"
    }
   ],
   "source": [
    "pageRank(L, 1)"
   ]
  },
  {
   "cell_type": "code",
   "execution_count": 15,
   "metadata": {},
   "outputs": [
    {
     "data": {
      "text/plain": [
       "array([  0.00000002,  42.85714272,   0.00000003,   0.00000002,\n",
       "         0.00000003,   0.00000002,  57.14285704,   0.00000004,\n",
       "         0.00000002,   0.00000005])"
      ]
     },
     "execution_count": 15,
     "metadata": {},
     "output_type": "execute_result"
    }
   ],
   "source": [
    "# Do note, this is calculating the eigenvalues of the link matrix, L,\n",
    "# without any damping. It may give different results that your pageRank function.\n",
    "# If you wish, you could modify this cell to include damping.\n",
    "# (There is no credit for this though)\n",
    "eVals, eVecs = la.eig(L) # Gets the eigenvalues and vectors\n",
    "order = np.absolute(eVals).argsort()[::-1] # Orders them by their eigenvalues\n",
    "eVals = eVals[order]\n",
    "eVecs = eVecs[:,order]\n",
    "\n",
    "r = eVecs[:, 0]\n",
    "100 * np.real(r / np.sum(r))"
   ]
  },
  {
   "cell_type": "code",
   "execution_count": 16,
   "metadata": {},
   "outputs": [
    {
     "name": "stdout",
     "output_type": "stream",
     "text": [
      "Populating the interactive namespace from numpy and matplotlib\n",
      "36 iterations to convergence.\n"
     ]
    },
    {
     "data": {
      "application/javascript": "/* Put everything inside the global mpl namespace */\nwindow.mpl = {};\n\n\nmpl.get_websocket_type = function() {\n    if (typeof(WebSocket) !== 'undefined') {\n        return WebSocket;\n    } else if (typeof(MozWebSocket) !== 'undefined') {\n        return MozWebSocket;\n    } else {\n        alert('Your browser does not have WebSocket support.' +\n              'Please try Chrome, Safari or Firefox ≥ 6. ' +\n              'Firefox 4 and 5 are also supported but you ' +\n              'have to enable WebSockets in about:config.');\n    };\n}\n\nmpl.figure = function(figure_id, websocket, ondownload, parent_element) {\n    this.id = figure_id;\n\n    this.ws = websocket;\n\n    this.supports_binary = (this.ws.binaryType != undefined);\n\n    if (!this.supports_binary) {\n        var warnings = document.getElementById(\"mpl-warnings\");\n        if (warnings) {\n            warnings.style.display = 'block';\n            warnings.textContent = (\n                \"This browser does not support binary websocket messages. \" +\n                    \"Performance may be slow.\");\n        }\n    }\n\n    this.imageObj = new Image();\n\n    this.context = undefined;\n    this.message = undefined;\n    this.canvas = undefined;\n    this.rubberband_canvas = undefined;\n    this.rubberband_context = undefined;\n    this.format_dropdown = undefined;\n\n    this.image_mode = 'full';\n\n    this.root = $('<div/>');\n    this._root_extra_style(this.root)\n    this.root.attr('style', 'display: inline-block');\n\n    $(parent_element).append(this.root);\n\n    this._init_header(this);\n    this._init_canvas(this);\n    this._init_toolbar(this);\n\n    var fig = this;\n\n    this.waiting = false;\n\n    this.ws.onopen =  function () {\n            fig.send_message(\"supports_binary\", {value: fig.supports_binary});\n            fig.send_message(\"send_image_mode\", {});\n            if (mpl.ratio != 1) {\n                fig.send_message(\"set_dpi_ratio\", {'dpi_ratio': mpl.ratio});\n            }\n            fig.send_message(\"refresh\", {});\n        }\n\n    this.imageObj.onload = function() {\n            if (fig.image_mode == 'full') {\n                // Full images could contain transparency (where diff images\n                // almost always do), so we need to clear the canvas so that\n                // there is no ghosting.\n                fig.context.clearRect(0, 0, fig.canvas.width, fig.canvas.height);\n            }\n            fig.context.drawImage(fig.imageObj, 0, 0);\n        };\n\n    this.imageObj.onunload = function() {\n        this.ws.close();\n    }\n\n    this.ws.onmessage = this._make_on_message_function(this);\n\n    this.ondownload = ondownload;\n}\n\nmpl.figure.prototype._init_header = function() {\n    var titlebar = $(\n        '<div class=\"ui-dialog-titlebar ui-widget-header ui-corner-all ' +\n        'ui-helper-clearfix\"/>');\n    var titletext = $(\n        '<div class=\"ui-dialog-title\" style=\"width: 100%; ' +\n        'text-align: center; padding: 3px;\"/>');\n    titlebar.append(titletext)\n    this.root.append(titlebar);\n    this.header = titletext[0];\n}\n\n\n\nmpl.figure.prototype._canvas_extra_style = function(canvas_div) {\n\n}\n\n\nmpl.figure.prototype._root_extra_style = function(canvas_div) {\n\n}\n\nmpl.figure.prototype._init_canvas = function() {\n    var fig = this;\n\n    var canvas_div = $('<div/>');\n\n    canvas_div.attr('style', 'position: relative; clear: both; outline: 0');\n\n    function canvas_keyboard_event(event) {\n        return fig.key_event(event, event['data']);\n    }\n\n    canvas_div.keydown('key_press', canvas_keyboard_event);\n    canvas_div.keyup('key_release', canvas_keyboard_event);\n    this.canvas_div = canvas_div\n    this._canvas_extra_style(canvas_div)\n    this.root.append(canvas_div);\n\n    var canvas = $('<canvas/>');\n    canvas.addClass('mpl-canvas');\n    canvas.attr('style', \"left: 0; top: 0; z-index: 0; outline: 0\")\n\n    this.canvas = canvas[0];\n    this.context = canvas[0].getContext(\"2d\");\n\n    var backingStore = this.context.backingStorePixelRatio ||\n\tthis.context.webkitBackingStorePixelRatio ||\n\tthis.context.mozBackingStorePixelRatio ||\n\tthis.context.msBackingStorePixelRatio ||\n\tthis.context.oBackingStorePixelRatio ||\n\tthis.context.backingStorePixelRatio || 1;\n\n    mpl.ratio = (window.devicePixelRatio || 1) / backingStore;\n\n    var rubberband = $('<canvas/>');\n    rubberband.attr('style', \"position: absolute; left: 0; top: 0; z-index: 1;\")\n\n    var pass_mouse_events = true;\n\n    canvas_div.resizable({\n        start: function(event, ui) {\n            pass_mouse_events = false;\n        },\n        resize: function(event, ui) {\n            fig.request_resize(ui.size.width, ui.size.height);\n        },\n        stop: function(event, ui) {\n            pass_mouse_events = true;\n            fig.request_resize(ui.size.width, ui.size.height);\n        },\n    });\n\n    function mouse_event_fn(event) {\n        if (pass_mouse_events)\n            return fig.mouse_event(event, event['data']);\n    }\n\n    rubberband.mousedown('button_press', mouse_event_fn);\n    rubberband.mouseup('button_release', mouse_event_fn);\n    // Throttle sequential mouse events to 1 every 20ms.\n    rubberband.mousemove('motion_notify', mouse_event_fn);\n\n    rubberband.mouseenter('figure_enter', mouse_event_fn);\n    rubberband.mouseleave('figure_leave', mouse_event_fn);\n\n    canvas_div.on(\"wheel\", function (event) {\n        event = event.originalEvent;\n        event['data'] = 'scroll'\n        if (event.deltaY < 0) {\n            event.step = 1;\n        } else {\n            event.step = -1;\n        }\n        mouse_event_fn(event);\n    });\n\n    canvas_div.append(canvas);\n    canvas_div.append(rubberband);\n\n    this.rubberband = rubberband;\n    this.rubberband_canvas = rubberband[0];\n    this.rubberband_context = rubberband[0].getContext(\"2d\");\n    this.rubberband_context.strokeStyle = \"#000000\";\n\n    this._resize_canvas = function(width, height) {\n        // Keep the size of the canvas, canvas container, and rubber band\n        // canvas in synch.\n        canvas_div.css('width', width)\n        canvas_div.css('height', height)\n\n        canvas.attr('width', width * mpl.ratio);\n        canvas.attr('height', height * mpl.ratio);\n        canvas.attr('style', 'width: ' + width + 'px; height: ' + height + 'px;');\n\n        rubberband.attr('width', width);\n        rubberband.attr('height', height);\n    }\n\n    // Set the figure to an initial 600x600px, this will subsequently be updated\n    // upon first draw.\n    this._resize_canvas(600, 600);\n\n    // Disable right mouse context menu.\n    $(this.rubberband_canvas).bind(\"contextmenu\",function(e){\n        return false;\n    });\n\n    function set_focus () {\n        canvas.focus();\n        canvas_div.focus();\n    }\n\n    window.setTimeout(set_focus, 100);\n}\n\nmpl.figure.prototype._init_toolbar = function() {\n    var fig = this;\n\n    var nav_element = $('<div/>')\n    nav_element.attr('style', 'width: 100%');\n    this.root.append(nav_element);\n\n    // Define a callback function for later on.\n    function toolbar_event(event) {\n        return fig.toolbar_button_onclick(event['data']);\n    }\n    function toolbar_mouse_event(event) {\n        return fig.toolbar_button_onmouseover(event['data']);\n    }\n\n    for(var toolbar_ind in mpl.toolbar_items) {\n        var name = mpl.toolbar_items[toolbar_ind][0];\n        var tooltip = mpl.toolbar_items[toolbar_ind][1];\n        var image = mpl.toolbar_items[toolbar_ind][2];\n        var method_name = mpl.toolbar_items[toolbar_ind][3];\n\n        if (!name) {\n            // put a spacer in here.\n            continue;\n        }\n        var button = $('<button/>');\n        button.addClass('ui-button ui-widget ui-state-default ui-corner-all ' +\n                        'ui-button-icon-only');\n        button.attr('role', 'button');\n        button.attr('aria-disabled', 'false');\n        button.click(method_name, toolbar_event);\n        button.mouseover(tooltip, toolbar_mouse_event);\n\n        var icon_img = $('<span/>');\n        icon_img.addClass('ui-button-icon-primary ui-icon');\n        icon_img.addClass(image);\n        icon_img.addClass('ui-corner-all');\n\n        var tooltip_span = $('<span/>');\n        tooltip_span.addClass('ui-button-text');\n        tooltip_span.html(tooltip);\n\n        button.append(icon_img);\n        button.append(tooltip_span);\n\n        nav_element.append(button);\n    }\n\n    var fmt_picker_span = $('<span/>');\n\n    var fmt_picker = $('<select/>');\n    fmt_picker.addClass('mpl-toolbar-option ui-widget ui-widget-content');\n    fmt_picker_span.append(fmt_picker);\n    nav_element.append(fmt_picker_span);\n    this.format_dropdown = fmt_picker[0];\n\n    for (var ind in mpl.extensions) {\n        var fmt = mpl.extensions[ind];\n        var option = $(\n            '<option/>', {selected: fmt === mpl.default_extension}).html(fmt);\n        fmt_picker.append(option)\n    }\n\n    // Add hover states to the ui-buttons\n    $( \".ui-button\" ).hover(\n        function() { $(this).addClass(\"ui-state-hover\");},\n        function() { $(this).removeClass(\"ui-state-hover\");}\n    );\n\n    var status_bar = $('<span class=\"mpl-message\"/>');\n    nav_element.append(status_bar);\n    this.message = status_bar[0];\n}\n\nmpl.figure.prototype.request_resize = function(x_pixels, y_pixels) {\n    // Request matplotlib to resize the figure. Matplotlib will then trigger a resize in the client,\n    // which will in turn request a refresh of the image.\n    this.send_message('resize', {'width': x_pixels, 'height': y_pixels});\n}\n\nmpl.figure.prototype.send_message = function(type, properties) {\n    properties['type'] = type;\n    properties['figure_id'] = this.id;\n    this.ws.send(JSON.stringify(properties));\n}\n\nmpl.figure.prototype.send_draw_message = function() {\n    if (!this.waiting) {\n        this.waiting = true;\n        this.ws.send(JSON.stringify({type: \"draw\", figure_id: this.id}));\n    }\n}\n\n\nmpl.figure.prototype.handle_save = function(fig, msg) {\n    var format_dropdown = fig.format_dropdown;\n    var format = format_dropdown.options[format_dropdown.selectedIndex].value;\n    fig.ondownload(fig, format);\n}\n\n\nmpl.figure.prototype.handle_resize = function(fig, msg) {\n    var size = msg['size'];\n    if (size[0] != fig.canvas.width || size[1] != fig.canvas.height) {\n        fig._resize_canvas(size[0], size[1]);\n        fig.send_message(\"refresh\", {});\n    };\n}\n\nmpl.figure.prototype.handle_rubberband = function(fig, msg) {\n    var x0 = msg['x0'] / mpl.ratio;\n    var y0 = (fig.canvas.height - msg['y0']) / mpl.ratio;\n    var x1 = msg['x1'] / mpl.ratio;\n    var y1 = (fig.canvas.height - msg['y1']) / mpl.ratio;\n    x0 = Math.floor(x0) + 0.5;\n    y0 = Math.floor(y0) + 0.5;\n    x1 = Math.floor(x1) + 0.5;\n    y1 = Math.floor(y1) + 0.5;\n    var min_x = Math.min(x0, x1);\n    var min_y = Math.min(y0, y1);\n    var width = Math.abs(x1 - x0);\n    var height = Math.abs(y1 - y0);\n\n    fig.rubberband_context.clearRect(\n        0, 0, fig.canvas.width, fig.canvas.height);\n\n    fig.rubberband_context.strokeRect(min_x, min_y, width, height);\n}\n\nmpl.figure.prototype.handle_figure_label = function(fig, msg) {\n    // Updates the figure title.\n    fig.header.textContent = msg['label'];\n}\n\nmpl.figure.prototype.handle_cursor = function(fig, msg) {\n    var cursor = msg['cursor'];\n    switch(cursor)\n    {\n    case 0:\n        cursor = 'pointer';\n        break;\n    case 1:\n        cursor = 'default';\n        break;\n    case 2:\n        cursor = 'crosshair';\n        break;\n    case 3:\n        cursor = 'move';\n        break;\n    }\n    fig.rubberband_canvas.style.cursor = cursor;\n}\n\nmpl.figure.prototype.handle_message = function(fig, msg) {\n    fig.message.textContent = msg['message'];\n}\n\nmpl.figure.prototype.handle_draw = function(fig, msg) {\n    // Request the server to send over a new figure.\n    fig.send_draw_message();\n}\n\nmpl.figure.prototype.handle_image_mode = function(fig, msg) {\n    fig.image_mode = msg['mode'];\n}\n\nmpl.figure.prototype.updated_canvas_event = function() {\n    // Called whenever the canvas gets updated.\n    this.send_message(\"ack\", {});\n}\n\n// A function to construct a web socket function for onmessage handling.\n// Called in the figure constructor.\nmpl.figure.prototype._make_on_message_function = function(fig) {\n    return function socket_on_message(evt) {\n        if (evt.data instanceof Blob) {\n            /* FIXME: We get \"Resource interpreted as Image but\n             * transferred with MIME type text/plain:\" errors on\n             * Chrome.  But how to set the MIME type?  It doesn't seem\n             * to be part of the websocket stream */\n            evt.data.type = \"image/png\";\n\n            /* Free the memory for the previous frames */\n            if (fig.imageObj.src) {\n                (window.URL || window.webkitURL).revokeObjectURL(\n                    fig.imageObj.src);\n            }\n\n            fig.imageObj.src = (window.URL || window.webkitURL).createObjectURL(\n                evt.data);\n            fig.updated_canvas_event();\n            fig.waiting = false;\n            return;\n        }\n        else if (typeof evt.data === 'string' && evt.data.slice(0, 21) == \"data:image/png;base64\") {\n            fig.imageObj.src = evt.data;\n            fig.updated_canvas_event();\n            fig.waiting = false;\n            return;\n        }\n\n        var msg = JSON.parse(evt.data);\n        var msg_type = msg['type'];\n\n        // Call the  \"handle_{type}\" callback, which takes\n        // the figure and JSON message as its only arguments.\n        try {\n            var callback = fig[\"handle_\" + msg_type];\n        } catch (e) {\n            console.log(\"No handler for the '\" + msg_type + \"' message type: \", msg);\n            return;\n        }\n\n        if (callback) {\n            try {\n                // console.log(\"Handling '\" + msg_type + \"' message: \", msg);\n                callback(fig, msg);\n            } catch (e) {\n                console.log(\"Exception inside the 'handler_\" + msg_type + \"' callback:\", e, e.stack, msg);\n            }\n        }\n    };\n}\n\n// from http://stackoverflow.com/questions/1114465/getting-mouse-location-in-canvas\nmpl.findpos = function(e) {\n    //this section is from http://www.quirksmode.org/js/events_properties.html\n    var targ;\n    if (!e)\n        e = window.event;\n    if (e.target)\n        targ = e.target;\n    else if (e.srcElement)\n        targ = e.srcElement;\n    if (targ.nodeType == 3) // defeat Safari bug\n        targ = targ.parentNode;\n\n    // jQuery normalizes the pageX and pageY\n    // pageX,Y are the mouse positions relative to the document\n    // offset() returns the position of the element relative to the document\n    var x = e.pageX - $(targ).offset().left;\n    var y = e.pageY - $(targ).offset().top;\n\n    return {\"x\": x, \"y\": y};\n};\n\n/*\n * return a copy of an object with only non-object keys\n * we need this to avoid circular references\n * http://stackoverflow.com/a/24161582/3208463\n */\nfunction simpleKeys (original) {\n  return Object.keys(original).reduce(function (obj, key) {\n    if (typeof original[key] !== 'object')\n        obj[key] = original[key]\n    return obj;\n  }, {});\n}\n\nmpl.figure.prototype.mouse_event = function(event, name) {\n    var canvas_pos = mpl.findpos(event)\n\n    if (name === 'button_press')\n    {\n        this.canvas.focus();\n        this.canvas_div.focus();\n    }\n\n    var x = canvas_pos.x * mpl.ratio;\n    var y = canvas_pos.y * mpl.ratio;\n\n    this.send_message(name, {x: x, y: y, button: event.button,\n                             step: event.step,\n                             guiEvent: simpleKeys(event)});\n\n    /* This prevents the web browser from automatically changing to\n     * the text insertion cursor when the button is pressed.  We want\n     * to control all of the cursor setting manually through the\n     * 'cursor' event from matplotlib */\n    event.preventDefault();\n    return false;\n}\n\nmpl.figure.prototype._key_event_extra = function(event, name) {\n    // Handle any extra behaviour associated with a key event\n}\n\nmpl.figure.prototype.key_event = function(event, name) {\n\n    // Prevent repeat events\n    if (name == 'key_press')\n    {\n        if (event.which === this._key)\n            return;\n        else\n            this._key = event.which;\n    }\n    if (name == 'key_release')\n        this._key = null;\n\n    var value = '';\n    if (event.ctrlKey && event.which != 17)\n        value += \"ctrl+\";\n    if (event.altKey && event.which != 18)\n        value += \"alt+\";\n    if (event.shiftKey && event.which != 16)\n        value += \"shift+\";\n\n    value += 'k';\n    value += event.which.toString();\n\n    this._key_event_extra(event, name);\n\n    this.send_message(name, {key: value,\n                             guiEvent: simpleKeys(event)});\n    return false;\n}\n\nmpl.figure.prototype.toolbar_button_onclick = function(name) {\n    if (name == 'download') {\n        this.handle_save(this, null);\n    } else {\n        this.send_message(\"toolbar_button\", {name: name});\n    }\n};\n\nmpl.figure.prototype.toolbar_button_onmouseover = function(tooltip) {\n    this.message.textContent = tooltip;\n};\nmpl.toolbar_items = [[\"Home\", \"Reset original view\", \"fa fa-home icon-home\", \"home\"], [\"Back\", \"Back to  previous view\", \"fa fa-arrow-left icon-arrow-left\", \"back\"], [\"Forward\", \"Forward to next view\", \"fa fa-arrow-right icon-arrow-right\", \"forward\"], [\"\", \"\", \"\", \"\"], [\"Pan\", \"Pan axes with left mouse, zoom with right\", \"fa fa-arrows icon-move\", \"pan\"], [\"Zoom\", \"Zoom to rectangle\", \"fa fa-square-o icon-check-empty\", \"zoom\"], [\"\", \"\", \"\", \"\"], [\"Download\", \"Download plot\", \"fa fa-floppy-o icon-save\", \"download\"]];\n\nmpl.extensions = [\"eps\", \"jpeg\", \"pdf\", \"png\", \"ps\", \"raw\", \"svg\", \"tif\"];\n\nmpl.default_extension = \"png\";var comm_websocket_adapter = function(comm) {\n    // Create a \"websocket\"-like object which calls the given IPython comm\n    // object with the appropriate methods. Currently this is a non binary\n    // socket, so there is still some room for performance tuning.\n    var ws = {};\n\n    ws.close = function() {\n        comm.close()\n    };\n    ws.send = function(m) {\n        //console.log('sending', m);\n        comm.send(m);\n    };\n    // Register the callback with on_msg.\n    comm.on_msg(function(msg) {\n        //console.log('receiving', msg['content']['data'], msg);\n        // Pass the mpl event to the overriden (by mpl) onmessage function.\n        ws.onmessage(msg['content']['data'])\n    });\n    return ws;\n}\n\nmpl.mpl_figure_comm = function(comm, msg) {\n    // This is the function which gets called when the mpl process\n    // starts-up an IPython Comm through the \"matplotlib\" channel.\n\n    var id = msg.content.data.id;\n    // Get hold of the div created by the display call when the Comm\n    // socket was opened in Python.\n    var element = $(\"#\" + id);\n    var ws_proxy = comm_websocket_adapter(comm)\n\n    function ondownload(figure, format) {\n        window.open(figure.imageObj.src);\n    }\n\n    var fig = new mpl.figure(id, ws_proxy,\n                           ondownload,\n                           element.get(0));\n\n    // Call onopen now - mpl needs it, as it is assuming we've passed it a real\n    // web socket which is closed, not our websocket->open comm proxy.\n    ws_proxy.onopen();\n\n    fig.parent_element = element.get(0);\n    fig.cell_info = mpl.find_output_cell(\"<div id='\" + id + \"'></div>\");\n    if (!fig.cell_info) {\n        console.error(\"Failed to find cell for figure\", id, fig);\n        return;\n    }\n\n    var output_index = fig.cell_info[2]\n    var cell = fig.cell_info[0];\n\n};\n\nmpl.figure.prototype.handle_close = function(fig, msg) {\n    var width = fig.canvas.width/mpl.ratio\n    fig.root.unbind('remove')\n\n    // Update the output cell to use the data from the current canvas.\n    fig.push_to_output();\n    var dataURL = fig.canvas.toDataURL();\n    // Re-enable the keyboard manager in IPython - without this line, in FF,\n    // the notebook keyboard shortcuts fail.\n    IPython.keyboard_manager.enable()\n    $(fig.parent_element).html('<img src=\"' + dataURL + '\" width=\"' + width + '\">');\n    fig.close_ws(fig, msg);\n}\n\nmpl.figure.prototype.close_ws = function(fig, msg){\n    fig.send_message('closing', msg);\n    // fig.ws.close()\n}\n\nmpl.figure.prototype.push_to_output = function(remove_interactive) {\n    // Turn the data on the canvas into data in the output cell.\n    var width = this.canvas.width/mpl.ratio\n    var dataURL = this.canvas.toDataURL();\n    this.cell_info[1]['text/html'] = '<img src=\"' + dataURL + '\" width=\"' + width + '\">';\n}\n\nmpl.figure.prototype.updated_canvas_event = function() {\n    // Tell IPython that the notebook contents must change.\n    IPython.notebook.set_dirty(true);\n    this.send_message(\"ack\", {});\n    var fig = this;\n    // Wait a second, then push the new image to the DOM so\n    // that it is saved nicely (might be nice to debounce this).\n    setTimeout(function () { fig.push_to_output() }, 1000);\n}\n\nmpl.figure.prototype._init_toolbar = function() {\n    var fig = this;\n\n    var nav_element = $('<div/>')\n    nav_element.attr('style', 'width: 100%');\n    this.root.append(nav_element);\n\n    // Define a callback function for later on.\n    function toolbar_event(event) {\n        return fig.toolbar_button_onclick(event['data']);\n    }\n    function toolbar_mouse_event(event) {\n        return fig.toolbar_button_onmouseover(event['data']);\n    }\n\n    for(var toolbar_ind in mpl.toolbar_items){\n        var name = mpl.toolbar_items[toolbar_ind][0];\n        var tooltip = mpl.toolbar_items[toolbar_ind][1];\n        var image = mpl.toolbar_items[toolbar_ind][2];\n        var method_name = mpl.toolbar_items[toolbar_ind][3];\n\n        if (!name) { continue; };\n\n        var button = $('<button class=\"btn btn-default\" href=\"#\" title=\"' + name + '\"><i class=\"fa ' + image + ' fa-lg\"></i></button>');\n        button.click(method_name, toolbar_event);\n        button.mouseover(tooltip, toolbar_mouse_event);\n        nav_element.append(button);\n    }\n\n    // Add the status bar.\n    var status_bar = $('<span class=\"mpl-message\" style=\"text-align:right; float: right;\"/>');\n    nav_element.append(status_bar);\n    this.message = status_bar[0];\n\n    // Add the close button to the window.\n    var buttongrp = $('<div class=\"btn-group inline pull-right\"></div>');\n    var button = $('<button class=\"btn btn-mini btn-primary\" href=\"#\" title=\"Stop Interaction\"><i class=\"fa fa-power-off icon-remove icon-large\"></i></button>');\n    button.click(function (evt) { fig.handle_close(fig, {}); } );\n    button.mouseover('Stop Interaction', toolbar_mouse_event);\n    buttongrp.append(button);\n    var titlebar = this.root.find($('.ui-dialog-titlebar'));\n    titlebar.prepend(buttongrp);\n}\n\nmpl.figure.prototype._root_extra_style = function(el){\n    var fig = this\n    el.on(\"remove\", function(){\n\tfig.close_ws(fig, {});\n    });\n}\n\nmpl.figure.prototype._canvas_extra_style = function(el){\n    // this is important to make the div 'focusable\n    el.attr('tabindex', 0)\n    // reach out to IPython and tell the keyboard manager to turn it's self\n    // off when our div gets focus\n\n    // location in version 3\n    if (IPython.notebook.keyboard_manager) {\n        IPython.notebook.keyboard_manager.register_events(el);\n    }\n    else {\n        // location in version 2\n        IPython.keyboard_manager.register_events(el);\n    }\n\n}\n\nmpl.figure.prototype._key_event_extra = function(event, name) {\n    var manager = IPython.notebook.keyboard_manager;\n    if (!manager)\n        manager = IPython.keyboard_manager;\n\n    // Check for shift+enter\n    if (event.shiftKey && event.which == 13) {\n        this.canvas_div.blur();\n        // select the cell after this one\n        var index = IPython.notebook.find_cell_index(this.cell_info[0]);\n        IPython.notebook.select(index + 1);\n    }\n}\n\nmpl.figure.prototype.handle_save = function(fig, msg) {\n    fig.ondownload(fig, null);\n}\n\n\nmpl.find_output_cell = function(html_output) {\n    // Return the cell and output element which can be found *uniquely* in the notebook.\n    // Note - this is a bit hacky, but it is done because the \"notebook_saving.Notebook\"\n    // IPython event is triggered only after the cells have been serialised, which for\n    // our purposes (turning an active figure into a static one), is too late.\n    var cells = IPython.notebook.get_cells();\n    var ncells = cells.length;\n    for (var i=0; i<ncells; i++) {\n        var cell = cells[i];\n        if (cell.cell_type === 'code'){\n            for (var j=0; j<cell.output_area.outputs.length; j++) {\n                var data = cell.output_area.outputs[j];\n                if (data.data) {\n                    // IPython >= 3 moved mimebundle to data attribute of output\n                    data = data.data;\n                }\n                if (data['text/html'] == html_output) {\n                    return [cell, data, j];\n                }\n            }\n        }\n    }\n}\n\n// Register the function which deals with the matplotlib target/channel.\n// The kernel may be null if the page has been refreshed.\nif (IPython.notebook.kernel != null) {\n    IPython.notebook.kernel.comm_manager.register_target('matplotlib', mpl.mpl_figure_comm);\n}\n",
      "text/plain": [
       "<IPython.core.display.Javascript object>"
      ]
     },
     "metadata": {},
     "output_type": "display_data"
    },
    {
     "data": {
      "text/html": [
       "<img src=\"data:image/png;base64,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\" width=\"640\">"
      ],
      "text/plain": [
       "<IPython.core.display.HTML object>"
      ]
     },
     "metadata": {},
     "output_type": "display_data"
    }
   ],
   "source": [
    "# You may wish to view the PageRank graphically.\n",
    "# This code will draw a bar chart, for each (numbered) website on the generated internet,\n",
    "# The height of each bar will be the score in the PageRank.\n",
    "# Run this code to see the PageRank for each internet you generate.\n",
    "# Hopefully you should see what you might expect\n",
    "# - there are a few clusters of important websites, but most on the internet are rubbish!\n",
    "%pylab notebook\n",
    "r = pageRank(generate_internet(100), 0.9)\n",
    "plt.bar(arange(r.shape[0]), r);"
   ]
  },
  {
   "cell_type": "code",
   "execution_count": null,
   "metadata": {
    "collapsed": true
   },
   "outputs": [],
   "source": []
  }
 ],
 "metadata": {
  "coursera": {
   "course_slug": "linear-algebra-machine-learning",
   "graded_item_id": "Sfbnp",
   "launcher_item_id": "aPxf3"
  },
  "kernelspec": {
   "display_name": "Python 3.9.6 64-bit",
   "language": "python",
   "name": "python3"
  },
  "language_info": {
   "codemirror_mode": {
    "name": "ipython",
    "version": 3
   },
   "file_extension": ".py",
   "mimetype": "text/x-python",
   "name": "python",
   "nbconvert_exporter": "python",
   "pygments_lexer": "ipython3",
   "version": "3.9.6"
  },
  "vscode": {
   "interpreter": {
    "hash": "aee8b7b246df8f9039afb4144a1f6fd8d2ca17a180786b69acc140d282b71a49"
   }
  }
 },
 "nbformat": 4,
 "nbformat_minor": 1
}
